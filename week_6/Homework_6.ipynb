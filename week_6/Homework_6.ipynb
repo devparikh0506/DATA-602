{
  "cells": [
    {
      "cell_type": "markdown",
      "metadata": {
        "id": "view-in-github",
        "colab_type": "text"
      },
      "source": [
        "<a href=\"https://colab.research.google.com/github/devparikh0506/DATA-602/blob/main/week_6/Homework_6.ipynb\" target=\"_parent\"><img src=\"https://colab.research.google.com/assets/colab-badge.svg\" alt=\"Open In Colab\"/></a>"
      ]
    },
    {
      "cell_type": "markdown",
      "metadata": {
        "id": "kzF3fX35cm1g"
      },
      "source": [
        "# Setup\n",
        "For the below problems, use the `MNIST_784` data set from OpenML.  Prior to using the data, scale the data and split into a test and training dataset.  The first 60,000 images are available to use as training data, and the remaining 10,000 images as test data."
      ]
    },
    {
      "cell_type": "code",
      "execution_count": 1,
      "metadata": {
        "id": "4ugjvK28cyKf"
      },
      "outputs": [],
      "source": [
        "from sklearn.datasets import fetch_openml\n",
        "from sklearn.preprocessing import MinMaxScaler\n",
        "import numpy as np\n",
        "import matplotlib.pyplot as plt"
      ]
    },
    {
      "cell_type": "code",
      "execution_count": 2,
      "metadata": {
        "id": "P7FSdKMkciDn"
      },
      "outputs": [],
      "source": [
        "#fetch OpenML data\n",
        "X, y = fetch_openml('mnist_784', version=1, return_X_y=True, as_frame=False)\n",
        "\n",
        "#split into test/validation/training sets\n",
        "train_bound = slice(0, 10_000)\n",
        "val_bound = slice(10_000,20_000)\n",
        "test_bound = slice(60_000, None)\n",
        "partition = lambda X, y, slc: (X[slc], y[slc])\n",
        "X_train, y_train = partition(X, y, train_bound)\n",
        "X_val, y_val = partition(X, y, val_bound)\n",
        "X_test, y_test = partition(X, y, test_bound)"
      ]
    },
    {
      "cell_type": "markdown",
      "metadata": {
        "id": "DWYH8dRwtEpq"
      },
      "source": [
        "## Problem 1: Validation curves (10 pts)\n",
        "\n",
        "To evaluate the performance of four candidate models performance, you produce the validation curves shown in the problem set (PDF file).\n",
        "For each model, supposing you want an $R^2$ score of 0.9 or above, would you: (a) acquire more data points, (b) increase the complexity of the model or replace with a more complex model, (c) decrease the complexity of the model, or (d) accept the model?\n",
        "You can indicate more than one approach.  Explain your reasoning."
      ]
    },
    {
      "cell_type": "markdown",
      "metadata": {
        "id": "FLahgPwPtEpr"
      },
      "source": [
        "(Your response here.  No code is required for this problem.)"
      ]
    },
    {
      "cell_type": "markdown",
      "metadata": {
        "id": "tNtL4MVNtEpr"
      },
      "source": [
        "## Problem 2: Learning curves (5 pts)\n",
        "\n",
        "You are evaluating a complexity hyperparameter $C$ on a candidate model, and produce the learning curve shown\n",
        "in the accompanying PDF file. Given this curve, what is the optimal setting for this parameter?  Why does accuracy, as measured by the $R^2$ score, decrease if the parameter is set outside this range?"
      ]
    },
    {
      "cell_type": "markdown",
      "metadata": {
        "id": "OTwHK9C8tEpr"
      },
      "source": [
        "(Your response here.  No code is required for this problem.)"
      ]
    },
    {
      "cell_type": "markdown",
      "metadata": {
        "id": "QiHGSrOgeLXF"
      },
      "source": [
        "## Problem 3: Dimensionality Reduction (30 pts)\n",
        "Scale the training dataset.  Using principal component analysis (PCA), reduce the dimensionality of the training images to include 75\\% of the original variance.  How many components remain following the dimensionality reduction?  Finally, apply the scaling and PCA transformations to the validation and test datasets."
      ]
    },
    {
      "cell_type": "code",
      "source": [
        "import seaborn as sns\n",
        "import pandas as pd\n",
        "from sklearn.decomposition import PCA\n",
        "from sklearn.pipeline import Pipeline\n",
        "\n",
        "# Since we know the min and max bounds for training data its good to use MinMaxScaler\n",
        "mm_scaler = MinMaxScaler()\n",
        "\n",
        "# For PCA using n_components equals to 0.75\n",
        "pca = PCA(n_components=0.75)\n",
        "\n",
        "# Using pipeline to apply scaler and PCA\n",
        "pipe = Pipeline(steps=[('scale', mm_scaler), ('pca', pca)])"
      ],
      "metadata": {
        "id": "OEqqbTC7uY5R"
      },
      "execution_count": 26,
      "outputs": []
    },
    {
      "cell_type": "code",
      "source": [
        "X_train_pca = pipe.fit_transform(X_train)\n",
        "print(f\"shape of training dataset before PCA: {X_train.shape}\")\n",
        "print(f\"shape of training dataset after PCA: {X_train_pca.shape}\")"
      ],
      "metadata": {
        "colab": {
          "base_uri": "https://localhost:8080/"
        },
        "id": "cljab0X_vma9",
        "outputId": "7054bfe9-143c-471a-c39d-c3efc9c1faa8"
      },
      "execution_count": 27,
      "outputs": [
        {
          "output_type": "stream",
          "name": "stdout",
          "text": [
            "shape of training dataset before PCA: (10000, 784)\n",
            "shape of training dataset after PCA: (10000, 33)\n"
          ]
        }
      ]
    },
    {
      "cell_type": "markdown",
      "source": [
        "So we now have 33 features remaining after PCA"
      ],
      "metadata": {
        "id": "LxVEkYZCwoPF"
      }
    },
    {
      "cell_type": "markdown",
      "source": [
        "Now let's apply scaling and PCA to validation and test datasets"
      ],
      "metadata": {
        "id": "-YIc9kauwtky"
      }
    },
    {
      "cell_type": "code",
      "source": [
        "X_val_pca = pipe.transform(X_val)\n",
        "X_test_pca = pipe.transform(X_test)"
      ],
      "metadata": {
        "id": "ZHsAdXt2ws2e"
      },
      "execution_count": 28,
      "outputs": []
    },
    {
      "cell_type": "markdown",
      "metadata": {
        "id": "Ku4oFcn8fbKk"
      },
      "source": [
        "# Problem 4: Support Vector Machines (50 pts)\n",
        "\n",
        "Using the dimensionality-reduced dataset from the previous problem, train a support vector machine to classify whether a digit is less than 5 (i.e., $y \\in \\left\\{0, 1, 2, 3, 4\\right\\}$).  Find a set of hyperparameters, to include the kernel function and $C$, that maximize the $F_1$ score.  The best-performing model should have an $F_1$ score of at least 0.93.\n",
        "\n",
        "Notes:\n",
        "* You may want to initially search $C$ over several orders of magnitude.  Consider initially searching with \\texttt{np.logspace}.\n",
        "* The hyperparameter selection may take a long time to run.  If using Google Colab, you may want to save or print the model so the work is not lost if the model reconnects.  See [Scikit-learn documentation](https://scikit-learn.org/stable/modules/model_persistence.html) for details.\n",
        "* As noted in class, the `LinearSVC` class is more efficient than `SVC(kernel='linear')` for a linear SVC."
      ]
    },
    {
      "cell_type": "markdown",
      "source": [
        "Let's first convert y_train, y_test and y_val to binary form in which 1\n",
        "represents that digit is less than 5 and 0 represents that digit is greater than or equals to 5."
      ],
      "metadata": {
        "id": "rL5-ZRmM0WwS"
      }
    },
    {
      "cell_type": "code",
      "execution_count": 37,
      "metadata": {
        "id": "-NORzlQZ4y4Q"
      },
      "outputs": [],
      "source": [
        "y_train_final = (y_train.astype(int) < 5).astype(int)\n",
        "y_val_final = (y_val.astype(int) < 5).astype(int)\n",
        "y_test_final = (y_test.astype(int) < 5).astype(int)"
      ]
    },
    {
      "cell_type": "code",
      "source": [
        "!pip install joblib"
      ],
      "metadata": {
        "colab": {
          "base_uri": "https://localhost:8080/"
        },
        "id": "PTmFV0rWL3sK",
        "outputId": "e8a7ea56-846d-4e3e-fe41-f7fb4895ff30"
      },
      "execution_count": 70,
      "outputs": [
        {
          "output_type": "stream",
          "name": "stdout",
          "text": [
            "Requirement already satisfied: joblib in /usr/local/lib/python3.10/dist-packages (1.4.2)\n"
          ]
        }
      ]
    },
    {
      "cell_type": "code",
      "source": [
        "from sklearn.svm import SVC, LinearSVC\n",
        "from sklearn.model_selection import GridSearchCV\n",
        "import joblib\n",
        "# Gridsearchcv params\n",
        "param_grid = [\n",
        "    {\n",
        "        'svc' : [LinearSVC()],\n",
        "        'svc__C': np.logspace(-3, 3, 7)\n",
        "    },\n",
        "    {\n",
        "      'svc': [SVC()],\n",
        "      'svc__C': np.logspace(-3, 3, 7),\n",
        "      'svc__kernel': ['poly', 'rbf']\n",
        "    }\n",
        "    ]\n",
        "\n",
        "pipe = Pipeline(steps=[('svc', SVC())])\n",
        "clf = GridSearchCV(\n",
        "    pipe, param_grid, cv=3, verbose=2, scoring='f1', n_jobs=-1\n",
        ")\n",
        "clf = clf.fit(X_train_pca, y_train_final)\n",
        "\n",
        "\n",
        "# saving model using joblib\n",
        "joblib.dump(clf, 'model.joblib')"
      ],
      "metadata": {
        "colab": {
          "base_uri": "https://localhost:8080/"
        },
        "id": "Avdp8wiS1LmQ",
        "outputId": "4ea2bce4-eadf-4714-9424-c183ed90271e"
      },
      "execution_count": 65,
      "outputs": [
        {
          "output_type": "stream",
          "name": "stdout",
          "text": [
            "Fitting 3 folds for each of 21 candidates, totalling 63 fits\n",
            "Best estimator found using GridSearchCV Pipeline(steps=[('svc', SVC(C=10.0))])\n"
          ]
        }
      ]
    },
    {
      "cell_type": "code",
      "source": [
        "print(f\"Best estimator found using GridSearchCV : {clf.best_estimator_} \\nParams: {clf.best_params_}\")"
      ],
      "metadata": {
        "colab": {
          "base_uri": "https://localhost:8080/"
        },
        "id": "J6d88QWnLk5-",
        "outputId": "7d6e4e5b-cf9e-4fa3-da51-dcd8accf52a6"
      },
      "execution_count": 67,
      "outputs": [
        {
          "output_type": "stream",
          "name": "stdout",
          "text": [
            "Best estimator found using GridSearchCV : Pipeline(steps=[('svc', SVC(C=10.0))]) \n",
            "Params: {'svc': SVC(), 'svc__C': 10.0, 'svc__kernel': 'rbf'}\n"
          ]
        }
      ]
    },
    {
      "cell_type": "code",
      "source": [
        "print(\"Best estimator score found using GridSearchCV\",clf.best_score_)"
      ],
      "metadata": {
        "colab": {
          "base_uri": "https://localhost:8080/"
        },
        "id": "Y5D03dCWK_PD",
        "outputId": "fe7fa266-149f-4db2-c2a9-ff658ad74909"
      },
      "execution_count": 66,
      "outputs": [
        {
          "output_type": "stream",
          "name": "stdout",
          "text": [
            "Best estimator score found using GridSearchCV 0.975224338250837\n"
          ]
        }
      ]
    },
    {
      "cell_type": "code",
      "source": [
        "# Loading the saved model\n",
        "model = joblib.load('model.joblib')"
      ],
      "metadata": {
        "id": "JDol-vZDLOcy"
      },
      "execution_count": 71,
      "outputs": []
    },
    {
      "cell_type": "markdown",
      "metadata": {
        "id": "btW2i1drjf2G"
      },
      "source": [
        "# Problem 3: Evaluation (20 pts)\n",
        "Using the best estimator you found in the previous problem, print the confusion matrix and F1 score.  You may use cross-validation methods (e.g., `cross_val_predict`) or the validation hold-out set for this problem; however, you should not yet use the test data set (last 10,000 records)."
      ]
    },
    {
      "cell_type": "code",
      "execution_count": 80,
      "metadata": {
        "id": "m0-JsijetEps"
      },
      "outputs": [],
      "source": [
        "#confusion matrix display function\n",
        "from sklearn.metrics import ConfusionMatrixDisplay\n",
        "import seaborn as sns\n",
        "def confusion_matrix_heatmap(cm: np.ndarray, fsize:int=1, fmt:str=\",\",\n",
        "                             cmap=None) -> plt.Figure:\n",
        "  sns.set_theme(font_scale=fsize)\n",
        "  fig, ax = plt.subplots(figsize=(5,5))\n",
        "  ConfusionMatrixDisplay(cm).plot(values_format=fmt, cmap=cmap, ax=ax)\n",
        "  ax.grid(False)\n",
        "  return fig"
      ]
    },
    {
      "cell_type": "code",
      "source": [
        "X_train_full = np.vstack((X_train_pca, X_val_pca))\n",
        "\n",
        "y_train_full = np.concatenate((y_train_final, y_val_final))"
      ],
      "metadata": {
        "id": "GUCulGc3NUhq"
      },
      "execution_count": 74,
      "outputs": []
    },
    {
      "cell_type": "code",
      "execution_count": 78,
      "metadata": {
        "id": "T7MpG81D4zTX",
        "colab": {
          "base_uri": "https://localhost:8080/"
        },
        "outputId": "1c9575e6-4bd3-4504-db29-76f3af0cd48c"
      },
      "outputs": [
        {
          "output_type": "stream",
          "name": "stdout",
          "text": [
            "Fitting 3 folds for each of 21 candidates, totalling 63 fits\n",
            "Fitting 3 folds for each of 21 candidates, totalling 63 fits\n",
            "Fitting 3 folds for each of 21 candidates, totalling 63 fits\n"
          ]
        }
      ],
      "source": [
        "from sklearn.model_selection import cross_val_predict\n",
        "from sklearn.metrics import confusion_matrix, f1_score\n",
        "\n",
        "y_pred = cross_val_predict(model, X_train_full, y_train_full, cv=3)\n",
        "cm = confusion_matrix(y_train_full, y_pred)\n",
        "f1 = f1_score(y_train_full, y_pred)"
      ]
    },
    {
      "cell_type": "code",
      "source": [
        "print(\"Confusion Matrix\")\n",
        "confusion_matrix_heatmap(cm)"
      ],
      "metadata": {
        "colab": {
          "base_uri": "https://localhost:8080/",
          "height": 882
        },
        "id": "8gBsvQc7MZfz",
        "outputId": "eff34c6a-3d69-49ae-e9fe-6f5d305f8d04"
      },
      "execution_count": 81,
      "outputs": [
        {
          "output_type": "stream",
          "name": "stdout",
          "text": [
            "Confusion Matrix\n"
          ]
        },
        {
          "output_type": "execute_result",
          "data": {
            "text/plain": [
              "<Figure size 500x500 with 2 Axes>"
            ],
            "image/png": "[encoded data removed]"
          },
          "metadata": {},
          "execution_count": 81
        },
        {
          "output_type": "display_data",
          "data": {
            "text/plain": [
              "<Figure size 500x500 with 2 Axes>"
            ],
            "image/png": "[encoded data removed]"
          },
          "metadata": {}
        }
      ]
    },
    {
      "cell_type": "code",
      "source": [
        "print(\"F1 score:\", f1)"
      ],
      "metadata": {
        "colab": {
          "base_uri": "https://localhost:8080/"
        },
        "id": "UZ0zXaUqOn96",
        "outputId": "e70f018c-527c-4532-b68c-04ad3159399c"
      },
      "execution_count": 82,
      "outputs": [
        {
          "output_type": "stream",
          "name": "stdout",
          "text": [
            "F1 score: 0.9815259469789778\n"
          ]
        }
      ]
    }
  ],
  "metadata": {
    "colab": {
      "provenance": [],
      "include_colab_link": true
    },
    "kernelspec": {
      "display_name": "Python 3",
      "name": "python3"
    },
    "language_info": {
      "name": "python"
    }
  },
  "nbformat": 4,
  "nbformat_minor": 0
}