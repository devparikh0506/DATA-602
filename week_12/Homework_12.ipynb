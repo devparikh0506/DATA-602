{
  "nbformat": 4,
  "nbformat_minor": 0,
  "metadata": {
    "colab": {
      "provenance": [],
      "gpuType": "T4",
      "include_colab_link": true
    },
    "kernelspec": {
      "name": "python3",
      "display_name": "Python 3"
    },
    "language_info": {
      "name": "python"
    },
    "accelerator": "GPU"
  },
  "cells": [
    {
      "cell_type": "markdown",
      "metadata": {
        "id": "view-in-github",
        "colab_type": "text"
      },
      "source": [
        "<a href=\"https://colab.research.google.com/github/devparikh0506/DATA-602/blob/main/week_12/Homework_12.ipynb\" target=\"_parent\"><img src=\"https://colab.research.google.com/assets/colab-badge.svg\" alt=\"Open In Colab\"/></a>"
      ]
    },
    {
      "cell_type": "markdown",
      "source": [
        "#Week 12 Template\n",
        "\n",
        "This template provides code to load the [California housing dataset](https://scikit-learn.org/stable/datasets/real_world.html#california-housing-dataset) from scikit-learn.  In this dataset each observation represents a census block group. The dataset features represent numeric properties of the census block such as the median income, median house age, and average number of bedrooms for the block.  The target variable reflects the median house value for that census block (in hundreds of thousands of dollars).  Refer to the Scikit user guide for details.\n",
        "\n",
        "For this assignment, you will need to build and train a deep (i.e., fully-connected) neural network in Keras that predicts the median house value from the given target variables. Note that this is a regression problem.\n",
        "\n",
        "Your approach should:\n",
        "\n",
        "* Scale the data and perform preprocessing as you see fit.  You may use scikit-learn for preprocessing.\n",
        "* Predict unseen observations (validation and test) with a mean absolute percentage error (MAPE) of less than 25\\%.\n",
        "* Use a `ModelCheckpoint` callback during training to save the weights corresponding to the highest validation MAPE.  (You will need to use the `validation_split` parameter or provide validation data.)\n",
        "* Load the weights from the best model after training\n",
        "* Evaluate the best model against the test dataset\n",
        "\n",
        "To receive full credit, your notebook must show that evaluation of the model on the test dataset yields an MAPE of 25\\% or less.\n"
      ],
      "metadata": {
        "id": "27tXBoZxMB1n"
      }
    },
    {
      "cell_type": "code",
      "execution_count": 1,
      "metadata": {
        "id": "yKhXgts9aRf8"
      },
      "outputs": [],
      "source": [
        "from sklearn.datasets import fetch_california_housing\n",
        "from sklearn.model_selection import train_test_split\n",
        "from sklearn.preprocessing import StandardScaler\n",
        "import numpy as np\n",
        "import matplotlib.pyplot as plt\n",
        "from tensorflow.keras import Sequential\n",
        "from tensorflow.keras.layers import Input, Dense, Dropout, BatchNormalization\n",
        "from tensorflow.keras.callbacks import ModelCheckpoint, EarlyStopping\n",
        "from sklearn.metrics import mean_absolute_percentage_error"
      ]
    },
    {
      "cell_type": "code",
      "source": [
        "california_housing = fetch_california_housing(as_frame=False)\n",
        "X = california_housing.data\n",
        "y = california_housing.target\n",
        "X_train, X_test, y_train, y_test = train_test_split(X, y, test_size=0.15)"
      ],
      "metadata": {
        "id": "lg3cQ0CFbHgW"
      },
      "execution_count": 2,
      "outputs": []
    },
    {
      "cell_type": "code",
      "source": [
        "# Using StandardScaler to center features and reduce variance, this will help neural network converge faster\n",
        "scaler = StandardScaler()\n",
        "X_train_scaled = scaler.fit_transform(X_train)\n",
        "X_test_scaled = scaler.transform(X_test)"
      ],
      "metadata": {
        "id": "WnNtJyUTxQRT"
      },
      "execution_count": 3,
      "outputs": []
    },
    {
      "cell_type": "code",
      "source": [
        "# Defining model architecture\n",
        "create_model = lambda: Sequential([\n",
        "    Input(shape=(X_train.shape[1],)),\n",
        "    Dense(64, activation='relu'),\n",
        "    BatchNormalization(),\n",
        "    Dropout(0.2),\n",
        "    Dense(32, activation='relu'),\n",
        "    BatchNormalization(),\n",
        "    Dropout(0.2),\n",
        "    Dense(16, activation='relu'),\n",
        "    Dense(1)\n",
        "])"
      ],
      "metadata": {
        "id": "FSJj1oHRn4YA"
      },
      "execution_count": 4,
      "outputs": []
    },
    {
      "cell_type": "markdown",
      "source": [
        "This model is a fully connected neural network designed for regression with:\n",
        "\n",
        "- First hidden layer: 64 neurons for initial feature extraction\n",
        "- BatchNormalization to stabilize learning\n",
        "- Dropout (0.2) to prevent overfitting\n",
        "- Progressively smaller hidden layers (32, 16) to learn complex, abstract representations\n",
        "- Final layer with single neuron for house value prediction\n",
        "- ReLU activations for non-linear transformations\n"
      ],
      "metadata": {
        "id": "otKM_UPXocaD"
      }
    },
    {
      "cell_type": "code",
      "source": [
        "model = create_model()"
      ],
      "metadata": {
        "id": "Ir4H3AMIoj_a"
      },
      "execution_count": 5,
      "outputs": []
    },
    {
      "cell_type": "code",
      "source": [
        "# compiling model\n",
        "model.compile(optimizer='adam', loss='mean_squared_error', metrics=['mae'])"
      ],
      "metadata": {
        "id": "h4slZqs_pjbC"
      },
      "execution_count": 6,
      "outputs": []
    },
    {
      "cell_type": "code",
      "source": [
        "# model early stop callback to stop training when 5 consicutive epochs doesn't improve validation MAE\n",
        "early_stop = EarlyStopping(\n",
        "    monitor='val_mae',\n",
        "    patience=5,\n",
        "    restore_best_weights=True,\n",
        "    min_delta=0.001\n",
        ")"
      ],
      "metadata": {
        "id": "3IN9Gw_Dq7Jt"
      },
      "execution_count": 7,
      "outputs": []
    },
    {
      "cell_type": "code",
      "source": [
        "# model checkpoint callback\n",
        "checkpoint_path = 'best_model_weights.weights.h5'\n",
        "model_checkpoint = ModelCheckpoint(\n",
        "    filepath=checkpoint_path,\n",
        "    monitor='val_mae',\n",
        "    mode='min',\n",
        "    save_best_only=True,\n",
        "    save_weights_only=True\n",
        ")"
      ],
      "metadata": {
        "id": "L0bmvUVdpo72"
      },
      "execution_count": 8,
      "outputs": []
    },
    {
      "cell_type": "code",
      "source": [
        "# Training model\n",
        "model_history = model.fit(\n",
        "    X_train_scaled, y_train,\n",
        "    validation_split=0.2,\n",
        "    epochs=100,\n",
        "    batch_size=16,\n",
        "    callbacks=[model_checkpoint, early_stop],\n",
        "    verbose=1\n",
        ")"
      ],
      "metadata": {
        "colab": {
          "base_uri": "https://localhost:8080/"
        },
        "id": "2rNr-lkEp1_t",
        "outputId": "cde07f77-8b42-4477-b726-abca931e965f"
      },
      "execution_count": 9,
      "outputs": [
        {
          "output_type": "stream",
          "name": "stdout",
          "text": [
            "Epoch 1/100\n",
            "\u001b[1m878/878\u001b[0m \u001b[32m━━━━━━━━━━━━━━━━━━━━\u001b[0m\u001b[37m\u001b[0m \u001b[1m15s\u001b[0m 5ms/step - loss: 1.3844 - mae: 0.8639 - val_loss: 0.5632 - val_mae: 0.5308\n",
            "Epoch 2/100\n",
            "\u001b[1m878/878\u001b[0m \u001b[32m━━━━━━━━━━━━━━━━━━━━\u001b[0m\u001b[37m\u001b[0m \u001b[1m2s\u001b[0m 3ms/step - loss: 0.6220 - mae: 0.5880 - val_loss: 0.4037 - val_mae: 0.4508\n",
            "Epoch 3/100\n",
            "\u001b[1m878/878\u001b[0m \u001b[32m━━━━━━━━━━━━━━━━━━━━\u001b[0m\u001b[37m\u001b[0m \u001b[1m3s\u001b[0m 4ms/step - loss: 0.5671 - mae: 0.5527 - val_loss: 0.4093 - val_mae: 0.4545\n",
            "Epoch 4/100\n",
            "\u001b[1m878/878\u001b[0m \u001b[32m━━━━━━━━━━━━━━━━━━━━\u001b[0m\u001b[37m\u001b[0m \u001b[1m4s\u001b[0m 3ms/step - loss: 0.4992 - mae: 0.5188 - val_loss: 0.3900 - val_mae: 0.4452\n",
            "Epoch 5/100\n",
            "\u001b[1m878/878\u001b[0m \u001b[32m━━━━━━━━━━━━━━━━━━━━\u001b[0m\u001b[37m\u001b[0m \u001b[1m3s\u001b[0m 3ms/step - loss: 0.4693 - mae: 0.4997 - val_loss: 0.3671 - val_mae: 0.4290\n",
            "Epoch 6/100\n",
            "\u001b[1m878/878\u001b[0m \u001b[32m━━━━━━━━━━━━━━━━━━━━\u001b[0m\u001b[37m\u001b[0m \u001b[1m2s\u001b[0m 2ms/step - loss: 0.4490 - mae: 0.4920 - val_loss: 0.3929 - val_mae: 0.4417\n",
            "Epoch 7/100\n",
            "\u001b[1m878/878\u001b[0m \u001b[32m━━━━━━━━━━━━━━━━━━━━\u001b[0m\u001b[37m\u001b[0m \u001b[1m3s\u001b[0m 3ms/step - loss: 0.4445 - mae: 0.4814 - val_loss: 0.3753 - val_mae: 0.4242\n",
            "Epoch 8/100\n",
            "\u001b[1m878/878\u001b[0m \u001b[32m━━━━━━━━━━━━━━━━━━━━\u001b[0m\u001b[37m\u001b[0m \u001b[1m5s\u001b[0m 3ms/step - loss: 0.4313 - mae: 0.4753 - val_loss: 0.3470 - val_mae: 0.4026\n",
            "Epoch 9/100\n",
            "\u001b[1m878/878\u001b[0m \u001b[32m━━━━━━━━━━━━━━━━━━━━\u001b[0m\u001b[37m\u001b[0m \u001b[1m2s\u001b[0m 2ms/step - loss: 0.4114 - mae: 0.4642 - val_loss: 0.3366 - val_mae: 0.4003\n",
            "Epoch 10/100\n",
            "\u001b[1m878/878\u001b[0m \u001b[32m━━━━━━━━━━━━━━━━━━━━\u001b[0m\u001b[37m\u001b[0m \u001b[1m3s\u001b[0m 3ms/step - loss: 0.3934 - mae: 0.4488 - val_loss: 0.3449 - val_mae: 0.4299\n",
            "Epoch 11/100\n",
            "\u001b[1m878/878\u001b[0m \u001b[32m━━━━━━━━━━━━━━━━━━━━\u001b[0m\u001b[37m\u001b[0m \u001b[1m3s\u001b[0m 3ms/step - loss: 0.3876 - mae: 0.4512 - val_loss: 0.3695 - val_mae: 0.4197\n",
            "Epoch 12/100\n",
            "\u001b[1m878/878\u001b[0m \u001b[32m━━━━━━━━━━━━━━━━━━━━\u001b[0m\u001b[37m\u001b[0m \u001b[1m4s\u001b[0m 3ms/step - loss: 0.4131 - mae: 0.4623 - val_loss: 0.3446 - val_mae: 0.3987\n",
            "Epoch 13/100\n",
            "\u001b[1m878/878\u001b[0m \u001b[32m━━━━━━━━━━━━━━━━━━━━\u001b[0m\u001b[37m\u001b[0m \u001b[1m2s\u001b[0m 2ms/step - loss: 0.3826 - mae: 0.4443 - val_loss: 0.3318 - val_mae: 0.4075\n",
            "Epoch 14/100\n",
            "\u001b[1m878/878\u001b[0m \u001b[32m━━━━━━━━━━━━━━━━━━━━\u001b[0m\u001b[37m\u001b[0m \u001b[1m3s\u001b[0m 2ms/step - loss: 0.3811 - mae: 0.4412 - val_loss: 0.3829 - val_mae: 0.4327\n",
            "Epoch 15/100\n",
            "\u001b[1m878/878\u001b[0m \u001b[32m━━━━━━━━━━━━━━━━━━━━\u001b[0m\u001b[37m\u001b[0m \u001b[1m3s\u001b[0m 3ms/step - loss: 0.3802 - mae: 0.4427 - val_loss: 0.3684 - val_mae: 0.4253\n",
            "Epoch 16/100\n",
            "\u001b[1m878/878\u001b[0m \u001b[32m━━━━━━━━━━━━━━━━━━━━\u001b[0m\u001b[37m\u001b[0m \u001b[1m5s\u001b[0m 3ms/step - loss: 0.3748 - mae: 0.4340 - val_loss: 0.3396 - val_mae: 0.4031\n",
            "Epoch 17/100\n",
            "\u001b[1m878/878\u001b[0m \u001b[32m━━━━━━━━━━━━━━━━━━━━\u001b[0m\u001b[37m\u001b[0m \u001b[1m2s\u001b[0m 2ms/step - loss: 0.3783 - mae: 0.4387 - val_loss: 0.3344 - val_mae: 0.4084\n"
          ]
        }
      ]
    },
    {
      "cell_type": "code",
      "source": [
        "# Loading best weights\n",
        "model.load_weights(checkpoint_path)"
      ],
      "metadata": {
        "id": "lz7ojxb0qW8Q"
      },
      "execution_count": 10,
      "outputs": []
    },
    {
      "cell_type": "code",
      "source": [
        "# Testing on test data\n",
        "y_pred = model.predict(X_test_scaled)"
      ],
      "metadata": {
        "colab": {
          "base_uri": "https://localhost:8080/"
        },
        "id": "IOgOnpf2uGt2",
        "outputId": "a7cb1386-a771-406c-cf17-9fbdde26d7ae"
      },
      "execution_count": 11,
      "outputs": [
        {
          "output_type": "stream",
          "name": "stdout",
          "text": [
            "\u001b[1m97/97\u001b[0m \u001b[32m━━━━━━━━━━━━━━━━━━━━\u001b[0m\u001b[37m\u001b[0m \u001b[1m1s\u001b[0m 5ms/step\n"
          ]
        }
      ]
    },
    {
      "cell_type": "code",
      "source": [
        "mape = mean_absolute_percentage_error(y_test, y_pred)\n",
        "print(f\"Test MAPE: {mape * 100:.2f}%\")"
      ],
      "metadata": {
        "colab": {
          "base_uri": "https://localhost:8080/"
        },
        "id": "3jj0v3ZtuNDC",
        "outputId": "cd044ebd-2338-4911-d1b4-e9a30c8f5f9e"
      },
      "execution_count": 12,
      "outputs": [
        {
          "output_type": "stream",
          "name": "stdout",
          "text": [
            "Test MAPE: 22.08%\n"
          ]
        }
      ]
    }
  ]
}